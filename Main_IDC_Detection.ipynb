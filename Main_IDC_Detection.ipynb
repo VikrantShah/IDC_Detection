{
 "cells": [
  {
   "cell_type": "markdown",
   "metadata": {},
   "source": [
    "# Importing the libraries"
   ]
  },
  {
   "cell_type": "code",
   "execution_count": 1,
   "metadata": {},
   "outputs": [],
   "source": [
    "from tensorflow import keras\n",
    "from tensorflow.keras.preprocessing.image import ImageDataGenerator\n",
    "from tensorflow.keras.models import Sequential\n",
    "from tensorflow.keras.layers import Conv2D\n",
    "from tensorflow.keras.layers import MaxPooling2D\n",
    "from tensorflow.keras.layers import Flatten\n",
    "from tensorflow.keras.layers import Dense\n",
    "from tensorflow.keras.layers import Dropout\n",
    "from tensorflow.keras.callbacks import EarlyStopping\n",
    "from tensorflow.keras.callbacks import ModelCheckpoint\n",
    "import matplotlib.pyplot as plt"
   ]
  },
  {
   "cell_type": "markdown",
   "metadata": {},
   "source": [
    "# Getting and loading the Training and Testing set"
   ]
  },
  {
   "cell_type": "code",
   "execution_count": 2,
   "metadata": {},
   "outputs": [],
   "source": [
    "path = r\"C:\\AI-DocHelper_Models_Code\\IDC_Detection\\dataset\""
   ]
  },
  {
   "cell_type": "code",
   "execution_count": 3,
   "metadata": {},
   "outputs": [],
   "source": [
    "batch_size = 16\n",
    "img_size = (50, 50)"
   ]
  },
  {
   "cell_type": "code",
   "execution_count": 4,
   "metadata": {},
   "outputs": [],
   "source": [
    "image_datagen = ImageDataGenerator(rescale = 1./255,\n",
    "                                  rotation_range=40.,\n",
    "                                  width_shift_range=0.2,\n",
    "                                  height_shift_range=0.2,\n",
    "                                  shear_range=0.2,\n",
    "                                  zoom_range=0.2, \n",
    "                                  horizontal_flip=True,\n",
    "                                  fill_mode=\"nearest\",\n",
    "                                  validation_split=0.2)"
   ]
  },
  {
   "cell_type": "code",
   "execution_count": 5,
   "metadata": {},
   "outputs": [
    {
     "name": "stdout",
     "output_type": "stream",
     "text": [
      "Found 60033 images belonging to 2 classes.\n",
      "Found 15007 images belonging to 2 classes.\n"
     ]
    }
   ],
   "source": [
    "train_generator = image_datagen.flow_from_directory(path,\n",
    "                                                   target_size=img_size,\n",
    "                                                   batch_size=batch_size,\n",
    "                                                   class_mode=\"binary\",\n",
    "                                                   subset=\"training\",\n",
    "                                                   shuffle=True)\n",
    "\n",
    "validation_generator = image_datagen.flow_from_directory(path,\n",
    "                                                        target_size=img_size,\n",
    "                                                        batch_size=batch_size,\n",
    "                                                        class_mode=\"binary\",\n",
    "                                                        subset=\"validation\",\n",
    "                                                        shuffle=False)"
   ]
  },
  {
   "cell_type": "markdown",
   "metadata": {},
   "source": [
    "# Getting the class names"
   ]
  },
  {
   "cell_type": "code",
   "execution_count": 6,
   "metadata": {},
   "outputs": [
    {
     "name": "stdout",
     "output_type": "stream",
     "text": [
      "{0: '0', 1: '1'}\n"
     ]
    }
   ],
   "source": [
    "temp_classes = dict(train_generator.class_indices)\n",
    "\n",
    "classes = dict()\n",
    "for (k, v) in temp_classes.items():\n",
    "    classes[v] = k\n",
    "print(classes)"
   ]
  },
  {
   "cell_type": "markdown",
   "metadata": {},
   "source": [
    "# Building the CNN"
   ]
  },
  {
   "cell_type": "markdown",
   "metadata": {},
   "source": [
    "## Initalising the CNN"
   ]
  },
  {
   "cell_type": "code",
   "execution_count": 7,
   "metadata": {},
   "outputs": [],
   "source": [
    "model = Sequential()"
   ]
  },
  {
   "cell_type": "markdown",
   "metadata": {},
   "source": [
    "## Adding VGG16 as the model base"
   ]
  },
  {
   "cell_type": "code",
   "execution_count": 8,
   "metadata": {},
   "outputs": [],
   "source": [
    "from tensorflow.keras.applications import VGG16"
   ]
  },
  {
   "cell_type": "code",
   "execution_count": 9,
   "metadata": {},
   "outputs": [],
   "source": [
    "vgg16 = VGG16(input_shape=(img_size[0], img_size[1], 3),\n",
    "             include_top = False,\n",
    "             weights=\"imagenet\")"
   ]
  },
  {
   "cell_type": "code",
   "execution_count": 10,
   "metadata": {},
   "outputs": [],
   "source": [
    "for layer in vgg16.layers:\n",
    "    layer.trainable= False"
   ]
  },
  {
   "cell_type": "code",
   "execution_count": 11,
   "metadata": {},
   "outputs": [],
   "source": [
    "model.add(vgg16)"
   ]
  },
  {
   "cell_type": "code",
   "execution_count": 12,
   "metadata": {},
   "outputs": [
    {
     "name": "stdout",
     "output_type": "stream",
     "text": [
      "Model: \"vgg16\"\n",
      "_________________________________________________________________\n",
      "Layer (type)                 Output Shape              Param #   \n",
      "=================================================================\n",
      "input_1 (InputLayer)         [(None, 50, 50, 3)]       0         \n",
      "_________________________________________________________________\n",
      "block1_conv1 (Conv2D)        (None, 50, 50, 64)        1792      \n",
      "_________________________________________________________________\n",
      "block1_conv2 (Conv2D)        (None, 50, 50, 64)        36928     \n",
      "_________________________________________________________________\n",
      "block1_pool (MaxPooling2D)   (None, 25, 25, 64)        0         \n",
      "_________________________________________________________________\n",
      "block2_conv1 (Conv2D)        (None, 25, 25, 128)       73856     \n",
      "_________________________________________________________________\n",
      "block2_conv2 (Conv2D)        (None, 25, 25, 128)       147584    \n",
      "_________________________________________________________________\n",
      "block2_pool (MaxPooling2D)   (None, 12, 12, 128)       0         \n",
      "_________________________________________________________________\n",
      "block3_conv1 (Conv2D)        (None, 12, 12, 256)       295168    \n",
      "_________________________________________________________________\n",
      "block3_conv2 (Conv2D)        (None, 12, 12, 256)       590080    \n",
      "_________________________________________________________________\n",
      "block3_conv3 (Conv2D)        (None, 12, 12, 256)       590080    \n",
      "_________________________________________________________________\n",
      "block3_pool (MaxPooling2D)   (None, 6, 6, 256)         0         \n",
      "_________________________________________________________________\n",
      "block4_conv1 (Conv2D)        (None, 6, 6, 512)         1180160   \n",
      "_________________________________________________________________\n",
      "block4_conv2 (Conv2D)        (None, 6, 6, 512)         2359808   \n",
      "_________________________________________________________________\n",
      "block4_conv3 (Conv2D)        (None, 6, 6, 512)         2359808   \n",
      "_________________________________________________________________\n",
      "block4_pool (MaxPooling2D)   (None, 3, 3, 512)         0         \n",
      "_________________________________________________________________\n",
      "block5_conv1 (Conv2D)        (None, 3, 3, 512)         2359808   \n",
      "_________________________________________________________________\n",
      "block5_conv2 (Conv2D)        (None, 3, 3, 512)         2359808   \n",
      "_________________________________________________________________\n",
      "block5_conv3 (Conv2D)        (None, 3, 3, 512)         2359808   \n",
      "_________________________________________________________________\n",
      "block5_pool (MaxPooling2D)   (None, 1, 1, 512)         0         \n",
      "=================================================================\n",
      "Total params: 14,714,688\n",
      "Trainable params: 0\n",
      "Non-trainable params: 14,714,688\n",
      "_________________________________________________________________\n"
     ]
    }
   ],
   "source": [
    "vgg16.summary()"
   ]
  },
  {
   "cell_type": "markdown",
   "metadata": {},
   "source": [
    "## Flattening all the layers"
   ]
  },
  {
   "cell_type": "code",
   "execution_count": 13,
   "metadata": {},
   "outputs": [],
   "source": [
    "model.add(Flatten())"
   ]
  },
  {
   "cell_type": "markdown",
   "metadata": {},
   "source": [
    "## Adding the First Fully Connected Layer"
   ]
  },
  {
   "cell_type": "code",
   "execution_count": 14,
   "metadata": {},
   "outputs": [],
   "source": [
    "model.add(Dense(units=64, activation=\"relu\"))"
   ]
  },
  {
   "cell_type": "markdown",
   "metadata": {},
   "source": [
    "## Adding the Second Fully Connected Layer"
   ]
  },
  {
   "cell_type": "code",
   "execution_count": 15,
   "metadata": {},
   "outputs": [],
   "source": [
    "model.add(Dense(units=32, activation=\"relu\"))"
   ]
  },
  {
   "cell_type": "markdown",
   "metadata": {},
   "source": [
    "## Adding the Third Fully Connected Layer"
   ]
  },
  {
   "cell_type": "code",
   "execution_count": 16,
   "metadata": {},
   "outputs": [],
   "source": [
    "model.add(Dense(units=16, activation=\"relu\"))"
   ]
  },
  {
   "cell_type": "markdown",
   "metadata": {},
   "source": [
    "## Adding a Dropout layer"
   ]
  },
  {
   "cell_type": "code",
   "execution_count": 17,
   "metadata": {},
   "outputs": [],
   "source": [
    "model.add(Dropout(rate=0.5))"
   ]
  },
  {
   "cell_type": "markdown",
   "metadata": {},
   "source": [
    "## Adding the Final Fully Connected Layer"
   ]
  },
  {
   "cell_type": "code",
   "execution_count": 18,
   "metadata": {},
   "outputs": [],
   "source": [
    "model.add(Dense(units=1, activation=\"sigmoid\"))"
   ]
  },
  {
   "cell_type": "markdown",
   "metadata": {},
   "source": [
    "## Diaplaying the model summary"
   ]
  },
  {
   "cell_type": "code",
   "execution_count": 19,
   "metadata": {},
   "outputs": [
    {
     "name": "stdout",
     "output_type": "stream",
     "text": [
      "Model: \"sequential\"\n",
      "_________________________________________________________________\n",
      "Layer (type)                 Output Shape              Param #   \n",
      "=================================================================\n",
      "vgg16 (Functional)           (None, 1, 1, 512)         14714688  \n",
      "_________________________________________________________________\n",
      "flatten (Flatten)            (None, 512)               0         \n",
      "_________________________________________________________________\n",
      "dense (Dense)                (None, 64)                32832     \n",
      "_________________________________________________________________\n",
      "dense_1 (Dense)              (None, 32)                2080      \n",
      "_________________________________________________________________\n",
      "dense_2 (Dense)              (None, 16)                528       \n",
      "_________________________________________________________________\n",
      "dropout (Dropout)            (None, 16)                0         \n",
      "_________________________________________________________________\n",
      "dense_3 (Dense)              (None, 1)                 17        \n",
      "=================================================================\n",
      "Total params: 14,750,145\n",
      "Trainable params: 35,457\n",
      "Non-trainable params: 14,714,688\n",
      "_________________________________________________________________\n"
     ]
    }
   ],
   "source": [
    "model.summary()"
   ]
  },
  {
   "cell_type": "markdown",
   "metadata": {},
   "source": [
    "# Compiling the CNN"
   ]
  },
  {
   "cell_type": "code",
   "execution_count": 20,
   "metadata": {},
   "outputs": [],
   "source": [
    "model.compile(optimizer=\"adam\",\n",
    "             loss=\"binary_crossentropy\",\n",
    "              metrics=[\"accuracy\"])"
   ]
  },
  {
   "cell_type": "markdown",
   "metadata": {},
   "source": [
    "# Training the CNN"
   ]
  },
  {
   "cell_type": "markdown",
   "metadata": {},
   "source": [
    "## Saving the best model only"
   ]
  },
  {
   "cell_type": "code",
   "execution_count": 21,
   "metadata": {},
   "outputs": [],
   "source": [
    "checkpoint = ModelCheckpoint(filepath=\"idc.h5\",\n",
    "                            save_best_only=True)"
   ]
  },
  {
   "cell_type": "markdown",
   "metadata": {},
   "source": [
    "## Stop the training, if there is no improvement"
   ]
  },
  {
   "cell_type": "code",
   "execution_count": 22,
   "metadata": {},
   "outputs": [],
   "source": [
    "earlyStopping = EarlyStopping(monitor=\"val_loss\",\n",
    "                             patience=10,\n",
    "                             restore_best_weights=True,\n",
    "                             verbose=1)"
   ]
  },
  {
   "cell_type": "markdown",
   "metadata": {},
   "source": [
    "## Calculating the steps_per_epoch and valiadtion_steps"
   ]
  },
  {
   "cell_type": "code",
   "execution_count": 23,
   "metadata": {},
   "outputs": [
    {
     "name": "stdout",
     "output_type": "stream",
     "text": [
      "3753\n",
      "938\n"
     ]
    }
   ],
   "source": [
    "import math\n",
    "\n",
    "batch_size=batch_size\n",
    "training_size = 60033 \n",
    "validation_size = 15007\n",
    "\n",
    "compute_steps_per_epoch = lambda x : int(math.ceil(1. * x / batch_size))\n",
    "\n",
    "steps_per_epoch = compute_steps_per_epoch(training_size)\n",
    "valiadtion_steps = compute_steps_per_epoch(validation_size)\n",
    "\n",
    "print(steps_per_epoch)\n",
    "print(valiadtion_steps)"
   ]
  },
  {
   "cell_type": "code",
   "execution_count": 24,
   "metadata": {},
   "outputs": [
    {
     "name": "stdout",
     "output_type": "stream",
     "text": [
      "Epoch 1/30\n",
      "3753/3753 [==============================] - 751s 200ms/step - loss: 0.5530 - accuracy: 0.7350 - val_loss: 0.4828 - val_accuracy: 0.7748\n",
      "Epoch 2/30\n",
      "3753/3753 [==============================] - 516s 138ms/step - loss: 0.4803 - accuracy: 0.7845 - val_loss: 0.5316 - val_accuracy: 0.7469\n",
      "Epoch 3/30\n",
      "3753/3753 [==============================] - 516s 138ms/step - loss: 0.4742 - accuracy: 0.7877 - val_loss: 0.4912 - val_accuracy: 0.7738\n",
      "Epoch 4/30\n",
      "3753/3753 [==============================] - 512s 136ms/step - loss: 0.4688 - accuracy: 0.7911 - val_loss: 0.4835 - val_accuracy: 0.7824\n",
      "Epoch 5/30\n",
      "3753/3753 [==============================] - 523s 139ms/step - loss: 0.4637 - accuracy: 0.7971 - val_loss: 0.5169 - val_accuracy: 0.7617\n",
      "Epoch 6/30\n",
      "3753/3753 [==============================] - 538s 143ms/step - loss: 0.4600 - accuracy: 0.7972 - val_loss: 0.5247 - val_accuracy: 0.7542\n",
      "Epoch 7/30\n",
      "3753/3753 [==============================] - 551s 147ms/step - loss: 0.4595 - accuracy: 0.7969 - val_loss: 0.4731 - val_accuracy: 0.7828\n",
      "Epoch 8/30\n",
      "3753/3753 [==============================] - 540s 144ms/step - loss: 0.4534 - accuracy: 0.8020 - val_loss: 0.5011 - val_accuracy: 0.7686\n",
      "Epoch 9/30\n",
      "3753/3753 [==============================] - 552s 147ms/step - loss: 0.4553 - accuracy: 0.8019 - val_loss: 0.4794 - val_accuracy: 0.7814\n",
      "Epoch 10/30\n",
      "3753/3753 [==============================] - 532s 142ms/step - loss: 0.4556 - accuracy: 0.7998 - val_loss: 0.4969 - val_accuracy: 0.7723\n",
      "Epoch 11/30\n",
      "3753/3753 [==============================] - 608s 162ms/step - loss: 0.4528 - accuracy: 0.8038 - val_loss: 0.5018 - val_accuracy: 0.7656\n",
      "Epoch 12/30\n",
      "3753/3753 [==============================] - 749s 200ms/step - loss: 0.4532 - accuracy: 0.8018 - val_loss: 0.5150 - val_accuracy: 0.7659\n",
      "Epoch 13/30\n",
      "3753/3753 [==============================] - 545s 145ms/step - loss: 0.4521 - accuracy: 0.8043 - val_loss: 0.4966 - val_accuracy: 0.7750\n",
      "Epoch 14/30\n",
      "3753/3753 [==============================] - 548s 146ms/step - loss: 0.4502 - accuracy: 0.8037 - val_loss: 0.4951 - val_accuracy: 0.7714\n",
      "Epoch 15/30\n",
      "3753/3753 [==============================] - 532s 142ms/step - loss: 0.4505 - accuracy: 0.8015 - val_loss: 0.4741 - val_accuracy: 0.7856\n",
      "Epoch 16/30\n",
      "3753/3753 [==============================] - 531s 142ms/step - loss: 0.4457 - accuracy: 0.8047 - val_loss: 0.4940 - val_accuracy: 0.7690\n",
      "Epoch 17/30\n",
      "3753/3753 [==============================] - 529s 141ms/step - loss: 0.4468 - accuracy: 0.8059 - val_loss: 0.4927 - val_accuracy: 0.7747\n",
      "Restoring model weights from the end of the best epoch.\n",
      "Epoch 00017: early stopping\n"
     ]
    }
   ],
   "source": [
    "history = model.fit(train_generator,\n",
    "                   steps_per_epoch=steps_per_epoch,\n",
    "                    epochs=30,\n",
    "                   validation_data=validation_generator,\n",
    "                   validation_steps=valiadtion_steps,\n",
    "                   callbacks=[checkpoint, earlyStopping])"
   ]
  },
  {
   "cell_type": "markdown",
   "metadata": {},
   "source": [
    "# Saving the model"
   ]
  },
  {
   "cell_type": "code",
   "execution_count": 25,
   "metadata": {},
   "outputs": [],
   "source": [
    "model_json = model.to_json()\n",
    "\n",
    "with open(\"idc.json\", \"w\") as json_file :\n",
    "    json_file.write(model_json)"
   ]
  },
  {
   "cell_type": "markdown",
   "metadata": {},
   "source": [
    "# Visualizing the training performance"
   ]
  },
  {
   "cell_type": "code",
   "execution_count": 26,
   "metadata": {},
   "outputs": [
    {
     "data": {
      "image/png": "[encoded data removed]",
      "text/plain": [
       "<Figure size 864x864 with 2 Axes>"
      ]
     },
     "metadata": {
      "needs_background": "light"
     },
     "output_type": "display_data"
    }
   ],
   "source": [
    "plt.figure(figsize = (12, 12))\n",
    "\n",
    "plt.subplot(2, 2, 1)\n",
    "plt.plot(history.history[\"accuracy\"], label = \"accuracy\")\n",
    "plt.plot(history.history[\"val_accuracy\"], label = \"val_accuracy\")\n",
    "plt.legend()\n",
    "plt.grid()\n",
    "plt.title(\"Accuracy Evaluation\")\n",
    "\n",
    "plt.subplot(2, 2, 2)\n",
    "plt.plot(history.history[\"loss\"], label = \"loss\")\n",
    "plt.plot(history.history[\"val_loss\"], label = \"val_loss\")\n",
    "plt.grid()\n",
    "plt.legend()\n",
    "plt.title(\"Loss Evaluation\")\n",
    "\n",
    "plt.savefig(\"idc_model_history.jpg\")"
   ]
  },
  {
   "cell_type": "markdown",
   "metadata": {},
   "source": [
    "# Getting the accuracy for test set"
   ]
  },
  {
   "cell_type": "code",
   "execution_count": 27,
   "metadata": {},
   "outputs": [
    {
     "name": "stdout",
     "output_type": "stream",
     "text": [
      "938/938 [==============================] - 105s 112ms/step - loss: 0.4726 - accuracy: 0.7847\n",
      "[0.4725691080093384, 0.7847004532814026]\n"
     ]
    }
   ],
   "source": [
    "test_accuracy = model.evaluate(validation_generator)\n",
    "print(test_accuracy)"
   ]
  },
  {
   "cell_type": "code",
   "execution_count": 28,
   "metadata": {},
   "outputs": [
    {
     "name": "stdout",
     "output_type": "stream",
     "text": [
      "938/938 [==============================] - 105s 112ms/step\n"
     ]
    },
    {
     "data": {
      "text/plain": [
       "array([[0.48149574],\n",
       "       [0.5252784 ],\n",
       "       [0.22043908],\n",
       "       ...,\n",
       "       [0.36122572],\n",
       "       [0.35786685],\n",
       "       [0.24245948]], dtype=float32)"
      ]
     },
     "execution_count": 28,
     "metadata": {},
     "output_type": "execute_result"
    }
   ],
   "source": [
    "preds = model.predict(validation_generator, verbose=1)\n",
    "preds"
   ]
  },
  {
   "cell_type": "code",
   "execution_count": 29,
   "metadata": {},
   "outputs": [],
   "source": [
    "predictions = preds.copy()\n",
    "predictions[predictions <= 0.5] = 0\n",
    "predictions[predictions > 0.5] = 1"
   ]
  },
  {
   "cell_type": "code",
   "execution_count": 30,
   "metadata": {},
   "outputs": [
    {
     "name": "stdout",
     "output_type": "stream",
     "text": [
      "[[0.]\n",
      " [1.]\n",
      " [0.]\n",
      " ...\n",
      " [0.]\n",
      " [0.]\n",
      " [0.]]\n"
     ]
    }
   ],
   "source": [
    "print(predictions)"
   ]
  },
  {
   "cell_type": "code",
   "execution_count": null,
   "metadata": {},
   "outputs": [],
   "source": []
  }
 ],
 "metadata": {
  "kernelspec": {
   "display_name": "Python 3",
   "language": "python",
   "name": "python3"
  },
  "language_info": {
   "codemirror_mode": {
    "name": "ipython",
    "version": 3
   },
   "file_extension": ".py",
   "mimetype": "text/x-python",
   "name": "python",
   "nbconvert_exporter": "python",
   "pygments_lexer": "ipython3",
   "version": "3.8.5"
  }
 },
 "nbformat": 4,
 "nbformat_minor": 4
}
