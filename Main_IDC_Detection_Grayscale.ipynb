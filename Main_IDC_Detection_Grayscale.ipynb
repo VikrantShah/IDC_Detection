{
 "cells": [
  {
   "cell_type": "markdown",
   "metadata": {},
   "source": [
    "# Importing the Libraries"
   ]
  },
  {
   "cell_type": "code",
   "execution_count": 1,
   "metadata": {},
   "outputs": [],
   "source": [
    "from tensorflow import keras\n",
    "from tensorflow.keras.preprocessing.image import ImageDataGenerator\n",
    "from tensorflow.keras.models import Sequential\n",
    "from tensorflow.keras.layers import Conv2D\n",
    "from tensorflow.keras.layers import MaxPooling2D\n",
    "from tensorflow.keras.layers import Flatten\n",
    "from tensorflow.keras.layers import Dense\n",
    "from tensorflow.keras.callbacks import EarlyStopping\n",
    "from tensorflow.keras.callbacks import ModelCheckpoint\n",
    "import matplotlib.pyplot as plt"
   ]
  },
  {
   "cell_type": "markdown",
   "metadata": {},
   "source": [
    "# Getting and loading the Training, Testing and Validation set"
   ]
  },
  {
   "cell_type": "code",
   "execution_count": 2,
   "metadata": {},
   "outputs": [],
   "source": [
    "path = r\"C:\\AI-DocHelper_Models_Code\\IDC_Detection\\dataset\""
   ]
  },
  {
   "cell_type": "code",
   "execution_count": 3,
   "metadata": {},
   "outputs": [],
   "source": [
    "batch_size = 16\n",
    "img_size = (50, 50)"
   ]
  },
  {
   "cell_type": "code",
   "execution_count": 4,
   "metadata": {},
   "outputs": [],
   "source": [
    "image_datagen = ImageDataGenerator(rescale = 1./255,\n",
    "                                  rotation_range=40.,\n",
    "                                  width_shift_range=0.2,\n",
    "                                  height_shift_range=0.2,\n",
    "                                  shear_range=0.2,\n",
    "                                  zoom_range=0.2, \n",
    "                                  horizontal_flip=True,\n",
    "                                  fill_mode=\"nearest\",\n",
    "                                  validation_split=0.2)"
   ]
  },
  {
   "cell_type": "code",
   "execution_count": 5,
   "metadata": {},
   "outputs": [
    {
     "name": "stdout",
     "output_type": "stream",
     "text": [
      "Found 60033 images belonging to 2 classes.\n",
      "Found 15007 images belonging to 2 classes.\n"
     ]
    }
   ],
   "source": [
    "train_generator = image_datagen.flow_from_directory(path,\n",
    "                                                   target_size=img_size,\n",
    "                                                   batch_size=batch_size,\n",
    "                                                   color_mode = \"grayscale\",\n",
    "                                                   class_mode=\"binary\",\n",
    "                                                   subset=\"training\",\n",
    "                                                   shuffle=True)\n",
    "\n",
    "validation_generator = image_datagen.flow_from_directory(path,\n",
    "                                                        target_size=img_size,\n",
    "                                                        batch_size=batch_size,\n",
    "                                                        color_mode = \"grayscale\",\n",
    "                                                        class_mode=\"binary\",\n",
    "                                                        subset=\"validation\",\n",
    "                                                        shuffle=False)"
   ]
  },
  {
   "cell_type": "markdown",
   "metadata": {},
   "source": [
    "# Getting the class names"
   ]
  },
  {
   "cell_type": "code",
   "execution_count": 6,
   "metadata": {},
   "outputs": [
    {
     "name": "stdout",
     "output_type": "stream",
     "text": [
      "{0: '0', 1: '1'}\n"
     ]
    }
   ],
   "source": [
    "temp_classes = dict(train_generator.class_indices)\n",
    "\n",
    "classes = dict()\n",
    "for (k, v) in temp_classes.items() :\n",
    "    classes[v] = k\n",
    "print(classes)"
   ]
  },
  {
   "cell_type": "markdown",
   "metadata": {},
   "source": [
    "# Building the CNN"
   ]
  },
  {
   "cell_type": "markdown",
   "metadata": {},
   "source": [
    "## Initalising the CNN"
   ]
  },
  {
   "cell_type": "code",
   "execution_count": 7,
   "metadata": {},
   "outputs": [],
   "source": [
    "model = Sequential()"
   ]
  },
  {
   "cell_type": "markdown",
   "metadata": {},
   "source": [
    "# Adding the layers"
   ]
  },
  {
   "cell_type": "markdown",
   "metadata": {},
   "source": [
    "## Adding the First Convolutional and Pooling layers"
   ]
  },
  {
   "cell_type": "code",
   "execution_count": 8,
   "metadata": {},
   "outputs": [],
   "source": [
    "model.add(Conv2D(32, (3, 3), input_shape = (img_size[0], img_size[1], 1), activation = \"relu\"))\n",
    "model.add(MaxPooling2D(pool_size = (2, 2)))"
   ]
  },
  {
   "cell_type": "markdown",
   "metadata": {},
   "source": [
    "## Adding the Second Convolutional and Pooling layers"
   ]
  },
  {
   "cell_type": "code",
   "execution_count": 9,
   "metadata": {},
   "outputs": [],
   "source": [
    "model.add(Conv2D(32, (3, 3), input_shape = (img_size[0], img_size[1], 1), activation = \"relu\"))\n",
    "model.add(MaxPooling2D(pool_size = (2, 2)))"
   ]
  },
  {
   "cell_type": "markdown",
   "metadata": {},
   "source": [
    "## Adding the Third Convolutional and Pooling layers"
   ]
  },
  {
   "cell_type": "code",
   "execution_count": 10,
   "metadata": {},
   "outputs": [],
   "source": [
    "model.add(Conv2D(64, (3, 3), input_shape = (img_size[0], img_size[1], 1), activation = \"relu\"))\n",
    "model.add(MaxPooling2D(pool_size = (2, 2)))"
   ]
  },
  {
   "cell_type": "markdown",
   "metadata": {},
   "source": [
    "## Adding the Forth Convolutional and Pooling layers"
   ]
  },
  {
   "cell_type": "code",
   "execution_count": 11,
   "metadata": {},
   "outputs": [],
   "source": [
    "model.add(Conv2D(64, (3, 3), input_shape = (img_size[0], img_size[1], 1), activation = \"relu\"))\n",
    "model.add(MaxPooling2D(pool_size = (2, 2)))"
   ]
  },
  {
   "cell_type": "markdown",
   "metadata": {},
   "source": [
    "# Flattening all the layers"
   ]
  },
  {
   "cell_type": "code",
   "execution_count": 12,
   "metadata": {},
   "outputs": [],
   "source": [
    "model.add(Flatten())"
   ]
  },
  {
   "cell_type": "markdown",
   "metadata": {},
   "source": [
    "## Adding the First Fully Connected Layer"
   ]
  },
  {
   "cell_type": "code",
   "execution_count": 13,
   "metadata": {},
   "outputs": [],
   "source": [
    "model.add(Dense(units = 128, activation = \"relu\"))"
   ]
  },
  {
   "cell_type": "markdown",
   "metadata": {},
   "source": [
    "## Adding the Second Fully Connected Layer"
   ]
  },
  {
   "cell_type": "code",
   "execution_count": 14,
   "metadata": {},
   "outputs": [],
   "source": [
    "model.add(Dense(units = 64, activation = \"relu\"))"
   ]
  },
  {
   "cell_type": "markdown",
   "metadata": {},
   "source": [
    "## Adding the Third Fully Connected Layer"
   ]
  },
  {
   "cell_type": "code",
   "execution_count": 15,
   "metadata": {},
   "outputs": [],
   "source": [
    "model.add(Dense(units = 32, activation = \"relu\"))"
   ]
  },
  {
   "cell_type": "markdown",
   "metadata": {},
   "source": [
    "## Adding the Final Fully Connected Layer"
   ]
  },
  {
   "cell_type": "code",
   "execution_count": 16,
   "metadata": {},
   "outputs": [],
   "source": [
    "model.add(Dense(units = 1, activation = \"sigmoid\"))"
   ]
  },
  {
   "cell_type": "markdown",
   "metadata": {},
   "source": [
    "## Displaying the model summary"
   ]
  },
  {
   "cell_type": "code",
   "execution_count": 17,
   "metadata": {},
   "outputs": [
    {
     "name": "stdout",
     "output_type": "stream",
     "text": [
      "Model: \"sequential\"\n",
      "_________________________________________________________________\n",
      "Layer (type)                 Output Shape              Param #   \n",
      "=================================================================\n",
      "conv2d (Conv2D)              (None, 48, 48, 32)        320       \n",
      "_________________________________________________________________\n",
      "max_pooling2d (MaxPooling2D) (None, 24, 24, 32)        0         \n",
      "_________________________________________________________________\n",
      "conv2d_1 (Conv2D)            (None, 22, 22, 32)        9248      \n",
      "_________________________________________________________________\n",
      "max_pooling2d_1 (MaxPooling2 (None, 11, 11, 32)        0         \n",
      "_________________________________________________________________\n",
      "conv2d_2 (Conv2D)            (None, 9, 9, 64)          18496     \n",
      "_________________________________________________________________\n",
      "max_pooling2d_2 (MaxPooling2 (None, 4, 4, 64)          0         \n",
      "_________________________________________________________________\n",
      "conv2d_3 (Conv2D)            (None, 2, 2, 64)          36928     \n",
      "_________________________________________________________________\n",
      "max_pooling2d_3 (MaxPooling2 (None, 1, 1, 64)          0         \n",
      "_________________________________________________________________\n",
      "flatten (Flatten)            (None, 64)                0         \n",
      "_________________________________________________________________\n",
      "dense (Dense)                (None, 128)               8320      \n",
      "_________________________________________________________________\n",
      "dense_1 (Dense)              (None, 64)                8256      \n",
      "_________________________________________________________________\n",
      "dense_2 (Dense)              (None, 32)                2080      \n",
      "_________________________________________________________________\n",
      "dense_3 (Dense)              (None, 1)                 33        \n",
      "=================================================================\n",
      "Total params: 83,681\n",
      "Trainable params: 83,681\n",
      "Non-trainable params: 0\n",
      "_________________________________________________________________\n"
     ]
    }
   ],
   "source": [
    "model.summary()"
   ]
  },
  {
   "cell_type": "markdown",
   "metadata": {},
   "source": [
    "## Compiling the CNN model"
   ]
  },
  {
   "cell_type": "code",
   "execution_count": 18,
   "metadata": {},
   "outputs": [],
   "source": [
    "model.compile(optimizer = \"adam\",\n",
    "             loss = \"binary_crossentropy\", \n",
    "             metrics = [\"accuracy\"])"
   ]
  },
  {
   "cell_type": "markdown",
   "metadata": {},
   "source": [
    "# Training the CNN"
   ]
  },
  {
   "cell_type": "markdown",
   "metadata": {},
   "source": [
    "## Saving the Best model only"
   ]
  },
  {
   "cell_type": "code",
   "execution_count": 19,
   "metadata": {},
   "outputs": [],
   "source": [
    "checkpoint = ModelCheckpoint(filepath = \"idc_grayscale.h5\",\n",
    "                            save_best_only = True)"
   ]
  },
  {
   "cell_type": "markdown",
   "metadata": {},
   "source": [
    "## Stopping the Training, if there is no improvement"
   ]
  },
  {
   "cell_type": "code",
   "execution_count": 20,
   "metadata": {},
   "outputs": [],
   "source": [
    "earlyStopping = EarlyStopping(monitor=\"val_loss\", \n",
    "                              patience = 15,\n",
    "                             restore_best_weights = True,\n",
    "                             verbose = 1)"
   ]
  },
  {
   "cell_type": "markdown",
   "metadata": {},
   "source": [
    "## Calculating the steps_per_epoch and validation_steps"
   ]
  },
  {
   "cell_type": "code",
   "execution_count": 21,
   "metadata": {},
   "outputs": [
    {
     "name": "stdout",
     "output_type": "stream",
     "text": [
      "3753\n",
      "938\n"
     ]
    }
   ],
   "source": [
    "import math\n",
    "\n",
    "batch_size = batch_size\n",
    "training_size = 60033\n",
    "validation_size = 15007\n",
    "\n",
    "compute_steps_per_epoch = lambda x : int(math.ceil(1. * x / batch_size))\n",
    "\n",
    "steps_per_epoch = compute_steps_per_epoch(training_size)\n",
    "validation_steps = compute_steps_per_epoch(validation_size)\n",
    "\n",
    "print(steps_per_epoch)\n",
    "print(validation_steps)"
   ]
  },
  {
   "cell_type": "code",
   "execution_count": 22,
   "metadata": {},
   "outputs": [
    {
     "name": "stdout",
     "output_type": "stream",
     "text": [
      "Epoch 1/50\n",
      "3753/3753 [==============================] - 114s 30ms/step - loss: 0.5685 - accuracy: 0.7040 - val_loss: 0.5157 - val_accuracy: 0.7560\n",
      "Epoch 2/50\n",
      "3753/3753 [==============================] - 124s 33ms/step - loss: 0.4990 - accuracy: 0.7680 - val_loss: 0.5384 - val_accuracy: 0.7579\n",
      "Epoch 3/50\n",
      "3753/3753 [==============================] - 128s 34ms/step - loss: 0.4940 - accuracy: 0.7714 - val_loss: 0.5249 - val_accuracy: 0.7502\n",
      "Epoch 4/50\n",
      "3753/3753 [==============================] - 124s 33ms/step - loss: 0.4842 - accuracy: 0.7772 - val_loss: 0.5537 - val_accuracy: 0.7351\n",
      "Epoch 5/50\n",
      "3753/3753 [==============================] - 117s 31ms/step - loss: 0.4729 - accuracy: 0.7823 - val_loss: 0.5358 - val_accuracy: 0.7421\n",
      "Epoch 6/50\n",
      "3753/3753 [==============================] - 114s 30ms/step - loss: 0.4689 - accuracy: 0.7837 - val_loss: 0.5206 - val_accuracy: 0.7604\n",
      "Epoch 7/50\n",
      "3753/3753 [==============================] - 112s 30ms/step - loss: 0.4661 - accuracy: 0.7865 - val_loss: 0.4994 - val_accuracy: 0.7668\n",
      "Epoch 8/50\n",
      "3753/3753 [==============================] - 113s 30ms/step - loss: 0.4640 - accuracy: 0.7882 - val_loss: 0.5262 - val_accuracy: 0.7441\n",
      "Epoch 9/50\n",
      "3753/3753 [==============================] - 114s 30ms/step - loss: 0.4593 - accuracy: 0.7895 - val_loss: 0.5215 - val_accuracy: 0.7491\n",
      "Epoch 10/50\n",
      "3753/3753 [==============================] - 115s 31ms/step - loss: 0.4591 - accuracy: 0.7893 - val_loss: 0.4937 - val_accuracy: 0.7766\n",
      "Epoch 11/50\n",
      "3753/3753 [==============================] - 115s 31ms/step - loss: 0.4543 - accuracy: 0.7912 - val_loss: 0.5084 - val_accuracy: 0.7620\n",
      "Epoch 12/50\n",
      "3753/3753 [==============================] - 115s 31ms/step - loss: 0.4543 - accuracy: 0.7934 - val_loss: 0.5158 - val_accuracy: 0.7614\n",
      "Epoch 13/50\n",
      "3753/3753 [==============================] - 115s 31ms/step - loss: 0.4496 - accuracy: 0.7971 - val_loss: 0.6046 - val_accuracy: 0.7251\n",
      "Epoch 14/50\n",
      "3753/3753 [==============================] - 115s 31ms/step - loss: 0.4503 - accuracy: 0.7947 - val_loss: 0.4973 - val_accuracy: 0.7702\n",
      "Epoch 15/50\n",
      "3753/3753 [==============================] - 115s 31ms/step - loss: 0.4466 - accuracy: 0.7980 - val_loss: 0.4783 - val_accuracy: 0.7886\n",
      "Epoch 16/50\n",
      "3753/3753 [==============================] - 115s 31ms/step - loss: 0.4518 - accuracy: 0.7922 - val_loss: 0.4971 - val_accuracy: 0.7694\n",
      "Epoch 17/50\n",
      "3753/3753 [==============================] - 115s 31ms/step - loss: 0.4465 - accuracy: 0.7970 - val_loss: 0.5079 - val_accuracy: 0.7607\n",
      "Epoch 18/50\n",
      "3753/3753 [==============================] - 116s 31ms/step - loss: 0.4472 - accuracy: 0.7968 - val_loss: 0.5010 - val_accuracy: 0.7650\n",
      "Epoch 19/50\n",
      "3753/3753 [==============================] - 116s 31ms/step - loss: 0.4402 - accuracy: 0.7985 - val_loss: 0.5019 - val_accuracy: 0.7579\n",
      "Epoch 20/50\n",
      "3753/3753 [==============================] - 102s 27ms/step - loss: 0.4361 - accuracy: 0.8016 - val_loss: 0.4802 - val_accuracy: 0.7772\n",
      "Epoch 21/50\n",
      "3753/3753 [==============================] - 101s 27ms/step - loss: 0.4389 - accuracy: 0.8022 - val_loss: 0.5216 - val_accuracy: 0.7533\n",
      "Epoch 22/50\n",
      "3753/3753 [==============================] - 103s 28ms/step - loss: 0.4390 - accuracy: 0.8018 - val_loss: 0.5746 - val_accuracy: 0.7341\n",
      "Epoch 23/50\n",
      "3753/3753 [==============================] - 112s 30ms/step - loss: 0.4418 - accuracy: 0.7967 - val_loss: 0.4869 - val_accuracy: 0.7673\n",
      "Epoch 24/50\n",
      "3753/3753 [==============================] - 99s 26ms/step - loss: 0.4406 - accuracy: 0.7982 - val_loss: 0.5082 - val_accuracy: 0.7672\n",
      "Epoch 25/50\n",
      "3753/3753 [==============================] - 99s 26ms/step - loss: 0.4335 - accuracy: 0.8032 - val_loss: 0.5726 - val_accuracy: 0.7267\n",
      "Epoch 26/50\n",
      "3753/3753 [==============================] - 101s 27ms/step - loss: 0.4307 - accuracy: 0.8053 - val_loss: 0.5307 - val_accuracy: 0.7491\n",
      "Epoch 27/50\n",
      "3753/3753 [==============================] - 99s 26ms/step - loss: 0.4287 - accuracy: 0.8060 - val_loss: 0.5938 - val_accuracy: 0.7232\n",
      "Epoch 28/50\n",
      "3753/3753 [==============================] - 100s 27ms/step - loss: 0.4295 - accuracy: 0.8059 - val_loss: 0.5192 - val_accuracy: 0.7466\n",
      "Epoch 29/50\n",
      "3753/3753 [==============================] - 100s 27ms/step - loss: 0.4327 - accuracy: 0.8029 - val_loss: 0.4803 - val_accuracy: 0.7866\n",
      "Epoch 30/50\n",
      "3753/3753 [==============================] - 100s 27ms/step - loss: 0.4316 - accuracy: 0.8057 - val_loss: 0.5122 - val_accuracy: 0.7610\n",
      "Restoring model weights from the end of the best epoch.\n",
      "Epoch 00030: early stopping\n"
     ]
    }
   ],
   "source": [
    "history = model.fit(train_generator,\n",
    "                             steps_per_epoch = steps_per_epoch,\n",
    "                             epochs = 50,\n",
    "                             validation_data = validation_generator,\n",
    "                             validation_steps = validation_steps,\n",
    "                             callbacks = [checkpoint, earlyStopping])"
   ]
  },
  {
   "cell_type": "markdown",
   "metadata": {},
   "source": [
    "# Saving the model"
   ]
  },
  {
   "cell_type": "code",
   "execution_count": 23,
   "metadata": {},
   "outputs": [],
   "source": [
    "model_json = model.to_json()\n",
    "\n",
    "with open(\"idc_grayscale.json\", \"w\") as json_file :\n",
    "    json_file.write(model_json)"
   ]
  },
  {
   "cell_type": "markdown",
   "metadata": {},
   "source": [
    "# Visualizing the Training Performance"
   ]
  },
  {
   "cell_type": "code",
   "execution_count": 24,
   "metadata": {},
   "outputs": [
    {
     "data": {
      "image/png": "[encoded data removed]",
      "text/plain": [
       "<Figure size 864x864 with 2 Axes>"
      ]
     },
     "metadata": {
      "needs_background": "light"
     },
     "output_type": "display_data"
    }
   ],
   "source": [
    "plt.figure(figsize = (12, 12))\n",
    "\n",
    "plt.subplot(2, 2, 1)\n",
    "plt.plot(history.history[\"accuracy\"], label = \"accuracy\")\n",
    "plt.plot(history.history[\"val_accuracy\"], label = \"val_accuracy\")\n",
    "plt.legend()\n",
    "plt.grid()\n",
    "plt.title(\"Accuracy Evaluation\")\n",
    "\n",
    "plt.subplot(2, 2, 2)\n",
    "plt.plot(history.history[\"loss\"], label = \"loss\")\n",
    "plt.plot(history.history[\"val_loss\"], label = \"val_loss\")\n",
    "plt.grid()\n",
    "plt.legend()\n",
    "plt.title(\"Loss Evaluation\")\n",
    "\n",
    "plt.savefig(\"idc_grayscale_model_history.jpg\")"
   ]
  },
  {
   "cell_type": "markdown",
   "metadata": {},
   "source": [
    "# Getting the accuracy for test set"
   ]
  },
  {
   "cell_type": "code",
   "execution_count": 25,
   "metadata": {},
   "outputs": [
    {
     "name": "stdout",
     "output_type": "stream",
     "text": [
      "938/938 [==============================] - 19s 20ms/step - loss: 0.4790 - accuracy: 0.7871\n",
      "[0.4790109694004059, 0.7870993614196777]\n"
     ]
    }
   ],
   "source": [
    "test_accuracy = model.evaluate(validation_generator)\n",
    "print(test_accuracy)"
   ]
  },
  {
   "cell_type": "code",
   "execution_count": 26,
   "metadata": {},
   "outputs": [
    {
     "name": "stdout",
     "output_type": "stream",
     "text": [
      "938/938 [==============================] - 16s 17ms/step\n"
     ]
    },
    {
     "data": {
      "text/plain": [
       "array([[0.1131573 ],\n",
       "       [0.3353129 ],\n",
       "       [0.21934617],\n",
       "       ...,\n",
       "       [0.26664478],\n",
       "       [0.4507645 ],\n",
       "       [0.23882231]], dtype=float32)"
      ]
     },
     "execution_count": 26,
     "metadata": {},
     "output_type": "execute_result"
    }
   ],
   "source": [
    "preds = model.predict(validation_generator, verbose=1)\n",
    "preds"
   ]
  },
  {
   "cell_type": "code",
   "execution_count": 27,
   "metadata": {},
   "outputs": [
    {
     "name": "stdout",
     "output_type": "stream",
     "text": [
      "[[0.]\n",
      " [0.]\n",
      " [0.]\n",
      " ...\n",
      " [0.]\n",
      " [0.]\n",
      " [0.]]\n"
     ]
    }
   ],
   "source": [
    "predictions = preds.copy()\n",
    "predictions[predictions <= 0.5] = 0\n",
    "predictions[predictions > 0.5] = 1\n",
    "\n",
    "print(predictions)"
   ]
  },
  {
   "cell_type": "code",
   "execution_count": null,
   "metadata": {},
   "outputs": [],
   "source": []
  }
 ],
 "metadata": {
  "kernelspec": {
   "display_name": "Python 3",
   "language": "python",
   "name": "python3"
  },
  "language_info": {
   "codemirror_mode": {
    "name": "ipython",
    "version": 3
   },
   "file_extension": ".py",
   "mimetype": "text/x-python",
   "name": "python",
   "nbconvert_exporter": "python",
   "pygments_lexer": "ipython3",
   "version": "3.8.5"
  }
 },
 "nbformat": 4,
 "nbformat_minor": 4
}
